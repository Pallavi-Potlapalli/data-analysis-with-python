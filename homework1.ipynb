{
 "cells": [
  {
   "cell_type": "code",
   "execution_count": 62,
   "id": "a17ca8d2",
   "metadata": {},
   "outputs": [],
   "source": [
    "import selenium\n",
    "from selenium import webdriver\n"
   ]
  },
  {
   "cell_type": "code",
   "execution_count": 63,
   "id": "5cfc5283",
   "metadata": {},
   "outputs": [],
   "source": [
    "from selenium import webdriver\n",
    "from selenium.webdriver.chrome.options import Options\n",
    "from selenium.webdriver.common.by import By\n",
    "from selenium.webdriver.common.keys import Keys\n",
    "from webdriver_manager.chrome import ChromeDriverManager\n",
    "import pandas as pd"
   ]
  },
  {
   "cell_type": "code",
   "execution_count": 64,
   "id": "0b78d2b5",
   "metadata": {},
   "outputs": [],
   "source": [
    "options = webdriver.ChromeOptions()"
   ]
  },
  {
   "cell_type": "code",
   "execution_count": 65,
   "id": "27cc7285",
   "metadata": {},
   "outputs": [],
   "source": [
    "driver = webdriver.Chrome(options=options)"
   ]
  },
  {
   "cell_type": "code",
   "execution_count": 66,
   "id": "f43b818b",
   "metadata": {},
   "outputs": [],
   "source": [
    "driver.get('https://www.myntra.com/')"
   ]
  },
  {
   "cell_type": "code",
   "execution_count": 67,
   "id": "a177b17f",
   "metadata": {},
   "outputs": [],
   "source": [
    "search = driver.find_element(By.XPATH,\".//input[@class='desktop-searchBar']\")"
   ]
  },
  {
   "cell_type": "code",
   "execution_count": 68,
   "id": "59e8e40c",
   "metadata": {},
   "outputs": [],
   "source": [
    "search.send_keys(\"Smart Watches\")"
   ]
  },
  {
   "cell_type": "code",
   "execution_count": 69,
   "id": "96990278",
   "metadata": {},
   "outputs": [],
   "source": [
    "search.send_keys(Keys.ENTER)"
   ]
  },
  {
   "cell_type": "code",
   "execution_count": 70,
   "id": "df0a4c90",
   "metadata": {},
   "outputs": [],
   "source": [
    "brand = driver.find_elements(By.XPATH,\".//h3[@class='product-brand']\")\n",
    "brands = [i.text for i in brand]"
   ]
  },
  {
   "cell_type": "code",
   "execution_count": 71,
   "id": "98ff2dbf",
   "metadata": {},
   "outputs": [
    {
     "name": "stdout",
     "output_type": "stream",
     "text": [
      "['Fire-Boltt', 'pebble', 'Fire-Boltt', 'boAt', 'NOISE', 'Fire-Boltt', 'CMF by Nothing', 'Cultsport', 'pebble', 'pebble', 'NOISE', 'Fire-Boltt', 'pebble', 'Fire-Boltt', 'pebble', 'Fire-Boltt', 'pebble', 'boAt', 'NOISE', 'NOISE', 'Fire-Boltt', 'boAt', 'Fire-Boltt', 'NOISE', 'Fire-Boltt', 'CMF by Nothing', 'pebble', 'NOISE', 'CMF by Nothing', 'pebble', 'NOISE', 'Fire-Boltt', 'NOISE', 'Fire-Boltt', 'Fire-Boltt', 'Realme', 'NOISE', 'pebble', 'NOISE', 'Fire-Boltt', 'Fire-Boltt', 'Timex', 'NOISE', 'Fire-Boltt', 'pebble', 'boAt', 'Fire-Boltt', 'Fastrack', 'Fastrack', 'Realme']\n"
     ]
    }
   ],
   "source": [
    "print(brands)"
   ]
  },
  {
   "cell_type": "code",
   "execution_count": 72,
   "id": "e8126964",
   "metadata": {},
   "outputs": [
    {
     "name": "stdout",
     "output_type": "stream",
     "text": [
      "50\n"
     ]
    }
   ],
   "source": [
    "print(len(brands))"
   ]
  },
  {
   "cell_type": "code",
   "execution_count": 73,
   "id": "77df40cb",
   "metadata": {},
   "outputs": [],
   "source": [
    "prod = driver.find_elements(By.XPATH,\".//h4[@class='product-product']\") "
   ]
  },
  {
   "cell_type": "code",
   "execution_count": 74,
   "id": "a45d29ff",
   "metadata": {},
   "outputs": [],
   "source": [
    "prods = [i.text for i in prod]"
   ]
  },
  {
   "cell_type": "code",
   "execution_count": 75,
   "id": "626d38df",
   "metadata": {},
   "outputs": [
    {
     "name": "stdout",
     "output_type": "stream",
     "text": [
      "['Cobra AMOLED Smart Watch', 'Women 1.27\" Smart Watch', 'Rock AMOLED Display Smartwatch', 'Unisex Wave Genesis Smartwatch', 'Fit Posh Smartwatch', 'Supernova Bluetooth SmartWatch', 'Watch Pro', 'Ace XR 1.43\" Smart Watches', 'Hive 1.39\" Display Smart Watch', 'Women 1.27\" Smart Watch', 'Mettle EliteEdition Smartwatch', 'Hulk 1.78 inch Smartwatch', 'Celia 1.32\" Display SmartWatch', 'Eclipse Luxe 1.43\" Amoled', 'Cosmos Ultra 1.91\" BT Calling Smartwatch', 'Starlight Bluetooth Smartwatch', 'Celia 1.32\" Display SmartWatch', 'Ultima Connect Max HD Display', 'ColorFit Vision 3 Smartwatch', 'Fit Posh Smartwatch', 'Hurricane Smartwatch', 'Ultima BT Calling Smartwatch', 'Aura BT Calling Smartwatch', 'ColorFit Icon 2 Smartwatch', 'Hulk 1.78 inch Smartwatch', 'Watch Pro', 'Cosmos Ultra 1.91\" BT Calling Smartwatch', 'Fit Posh Smartwatch', 'Watch Pro', 'Cosmos Quest Smartwatch', 'ColorFit Caliber Smartwatch', 'Hurricane Smartwatch', 'ColorFit Icon 2 Smartwatch', 'Hurricane Smartwatch', 'Crusader Amoled 1.43BT Calling', 'TechLife Watch S100', 'ColorFit Pro 5 Smartwatch', 'Cosmos Ultra 1.91\" BT Calling Smartwatch', 'Evolve 3 Smartwatch', 'Avalanche Luxury Smart Watch', 'Eclipse Luxe 1.43\" Amoled', 'FitGen Smart Watches', 'ColorFit Pro 5 Max Smartwatch', 'Grenade BT Calling Smartwatch', 'BT Calling Luxury Smartwatch', 'Enigma Z40 Smartwatch', 'Visionary TWS Smartwatch', 'Vigor HD Display Smartwatch', '1.91\" HD Display Smartwatch', 'TechLife Watch S100']\n"
     ]
    }
   ],
   "source": [
    "print(prods)"
   ]
  },
  {
   "cell_type": "code",
   "execution_count": 76,
   "id": "8d2c2dc0",
   "metadata": {},
   "outputs": [
    {
     "name": "stdout",
     "output_type": "stream",
     "text": [
      "50\n"
     ]
    }
   ],
   "source": [
    "print(len(prods))"
   ]
  },
  {
   "cell_type": "code",
   "execution_count": 92,
   "id": "116abab0",
   "metadata": {},
   "outputs": [],
   "source": [
    "price = driver.find_elements(By.XPATH,\".//div[@class='product-price']\")"
   ]
  },
  {
   "cell_type": "code",
   "execution_count": 94,
   "id": "9864eefc",
   "metadata": {},
   "outputs": [
    {
     "name": "stdout",
     "output_type": "stream",
     "text": [
      "['Rs. 1899Rs. 19999(Rs. 18100 OFF)', 'Rs. 2299Rs. 6999(Rs. 4700 OFF)', 'Rs. 3199Rs. 18999(Rs. 15800 OFF)', 'Rs. 1899Rs. 6499(Rs. 4600 OFF)', 'Rs. 1799Rs. 6999(Rs. 5200 OFF)', 'Rs. 1899Rs. 18999(Rs. 17100 OFF)', 'Rs. 3499Rs. 5999(Rs. 2500 OFF)', 'Rs. 2799Rs. 9999(72% OFF)', 'Rs. 1699Rs. 6499(Rs. 4800 OFF)', 'Rs. 2299Rs. 6999(Rs. 4700 OFF)', 'Rs. 2249Rs. 7999(Rs. 5750 OFF)', 'Rs. 1799Rs. 17999(Rs. 16200 OFF)', 'Rs. 2299Rs. 7499(Rs. 5200 OFF)', 'Rs. 1799Rs. 19999(Rs. 18200 OFF)', 'Rs. 1599Rs. 7499(Rs. 5900 OFF)', 'Rs. 1599Rs. 14999(Rs. 13400 OFF)', 'Rs. 7499', 'Rs. 1899Rs. 8999(Rs. 7100 OFF)', 'Rs. 3499Rs. 7999(Rs. 4500 OFF)', 'Rs. 1799Rs. 6999(Rs. 5200 OFF)', 'Rs. 1700Rs. 8999(Rs. 7299 OFF)', 'Rs. 1899Rs. 8999(Rs. 7100 OFF)', 'Rs. 1999Rs. 11999(Rs. 10000 OFF)', 'Rs. 1799Rs. 6999(Rs. 5200 OFF)', 'Rs. 1799Rs. 17999(Rs. 16200 OFF)', 'Rs. 3499Rs. 5999(Rs. 2500 OFF)', 'Rs. 1599Rs. 7499(Rs. 5900 OFF)', 'Rs. 1799Rs. 6999(Rs. 5200 OFF)', 'Rs. 3499Rs. 5999(Rs. 2500 OFF)', 'Rs. 2499Rs. 9999(Rs. 7500 OFF)', 'Rs. 999Rs. 3999(Rs. 3000 OFF)', 'Rs. 1899Rs. 8999(Rs. 7100 OFF)', 'Rs. 1799Rs. 6999(Rs. 5200 OFF)', 'Rs. 1850Rs. 8999(Rs. 7149 OFF)', 'Rs. 1899Rs. 18999(Rs. 17100 OFF)', 'Rs. 2499Rs. 3999(Rs. 1500 OFF)', 'Rs. 3999Rs. 8999(Rs. 5000 OFF)', 'Rs. 1599Rs. 7499(Rs. 5900 OFF)', 'Rs. 2449Rs. 6999(Rs. 4550 OFF)', 'Rs. 2199Rs. 21000(Rs. 18801 OFF)', 'Rs. 1999Rs. 19999(Rs. 18000 OFF)', 'Rs. 3497Rs. 6995(50% OFF)', 'Rs. 4999Rs. 9999(Rs. 5000 OFF)', 'Rs. 1699Rs. 15999(Rs. 14300 OFF)', 'Rs. 1999Rs. 9999(Rs. 8000 OFF)', 'Rs. 4799Rs. 10499(Rs. 5700 OFF)', 'Rs. 2499Rs. 18499(Rs. 16000 OFF)', 'Rs. 2495Rs. 4995(Rs. 2500 OFF)', 'Rs. 2995Rs. 5995(Rs. 3000 OFF)', 'Rs. 2499Rs. 3999(Rs. 1500 OFF)']\n"
     ]
    }
   ],
   "source": [
    "prices = [i.text for i in price]\n",
    "print(prices)"
   ]
  },
  {
   "cell_type": "code",
   "execution_count": 95,
   "id": "4bb91646",
   "metadata": {},
   "outputs": [
    {
     "name": "stdout",
     "output_type": "stream",
     "text": [
      "50\n"
     ]
    }
   ],
   "source": [
    "print(len(prices))"
   ]
  },
  {
   "cell_type": "code",
   "execution_count": 96,
   "id": "d2f994a9",
   "metadata": {},
   "outputs": [],
   "source": [
    "df = pd.DataFrame(columns = [\"Brand\",\"Desc\",\"Price\"])"
   ]
  },
  {
   "cell_type": "code",
   "execution_count": 97,
   "id": "5f96d1c2",
   "metadata": {},
   "outputs": [
    {
     "data": {
      "text/html": [
       "<div>\n",
       "<style scoped>\n",
       "    .dataframe tbody tr th:only-of-type {\n",
       "        vertical-align: middle;\n",
       "    }\n",
       "\n",
       "    .dataframe tbody tr th {\n",
       "        vertical-align: top;\n",
       "    }\n",
       "\n",
       "    .dataframe thead th {\n",
       "        text-align: right;\n",
       "    }\n",
       "</style>\n",
       "<table border=\"1\" class=\"dataframe\">\n",
       "  <thead>\n",
       "    <tr style=\"text-align: right;\">\n",
       "      <th></th>\n",
       "      <th>Brand</th>\n",
       "      <th>Desc</th>\n",
       "      <th>Price</th>\n",
       "    </tr>\n",
       "  </thead>\n",
       "  <tbody>\n",
       "  </tbody>\n",
       "</table>\n",
       "</div>"
      ],
      "text/plain": [
       "Empty DataFrame\n",
       "Columns: [Brand, Desc, Price]\n",
       "Index: []"
      ]
     },
     "execution_count": 97,
     "metadata": {},
     "output_type": "execute_result"
    }
   ],
   "source": [
    "df"
   ]
  },
  {
   "cell_type": "code",
   "execution_count": 98,
   "id": "6353c7a4",
   "metadata": {},
   "outputs": [],
   "source": [
    "df['Brand'] = brands\n",
    "df['Desc'] = prods\n",
    "df['Price'] = prices"
   ]
  },
  {
   "cell_type": "code",
   "execution_count": 99,
   "id": "326ed162",
   "metadata": {},
   "outputs": [
    {
     "data": {
      "text/html": [
       "<div>\n",
       "<style scoped>\n",
       "    .dataframe tbody tr th:only-of-type {\n",
       "        vertical-align: middle;\n",
       "    }\n",
       "\n",
       "    .dataframe tbody tr th {\n",
       "        vertical-align: top;\n",
       "    }\n",
       "\n",
       "    .dataframe thead th {\n",
       "        text-align: right;\n",
       "    }\n",
       "</style>\n",
       "<table border=\"1\" class=\"dataframe\">\n",
       "  <thead>\n",
       "    <tr style=\"text-align: right;\">\n",
       "      <th></th>\n",
       "      <th>Brand</th>\n",
       "      <th>Desc</th>\n",
       "      <th>Price</th>\n",
       "    </tr>\n",
       "  </thead>\n",
       "  <tbody>\n",
       "    <tr>\n",
       "      <th>0</th>\n",
       "      <td>Fire-Boltt</td>\n",
       "      <td>Cobra AMOLED Smart Watch</td>\n",
       "      <td>Rs. 1899Rs. 19999(Rs. 18100 OFF)</td>\n",
       "    </tr>\n",
       "    <tr>\n",
       "      <th>1</th>\n",
       "      <td>pebble</td>\n",
       "      <td>Women 1.27\" Smart Watch</td>\n",
       "      <td>Rs. 2299Rs. 6999(Rs. 4700 OFF)</td>\n",
       "    </tr>\n",
       "    <tr>\n",
       "      <th>2</th>\n",
       "      <td>Fire-Boltt</td>\n",
       "      <td>Rock AMOLED Display Smartwatch</td>\n",
       "      <td>Rs. 3199Rs. 18999(Rs. 15800 OFF)</td>\n",
       "    </tr>\n",
       "    <tr>\n",
       "      <th>3</th>\n",
       "      <td>boAt</td>\n",
       "      <td>Unisex Wave Genesis Smartwatch</td>\n",
       "      <td>Rs. 1899Rs. 6499(Rs. 4600 OFF)</td>\n",
       "    </tr>\n",
       "    <tr>\n",
       "      <th>4</th>\n",
       "      <td>NOISE</td>\n",
       "      <td>Fit Posh Smartwatch</td>\n",
       "      <td>Rs. 1799Rs. 6999(Rs. 5200 OFF)</td>\n",
       "    </tr>\n",
       "    <tr>\n",
       "      <th>5</th>\n",
       "      <td>Fire-Boltt</td>\n",
       "      <td>Supernova Bluetooth SmartWatch</td>\n",
       "      <td>Rs. 1899Rs. 18999(Rs. 17100 OFF)</td>\n",
       "    </tr>\n",
       "    <tr>\n",
       "      <th>6</th>\n",
       "      <td>CMF by Nothing</td>\n",
       "      <td>Watch Pro</td>\n",
       "      <td>Rs. 3499Rs. 5999(Rs. 2500 OFF)</td>\n",
       "    </tr>\n",
       "    <tr>\n",
       "      <th>7</th>\n",
       "      <td>Cultsport</td>\n",
       "      <td>Ace XR 1.43\" Smart Watches</td>\n",
       "      <td>Rs. 2799Rs. 9999(72% OFF)</td>\n",
       "    </tr>\n",
       "    <tr>\n",
       "      <th>8</th>\n",
       "      <td>pebble</td>\n",
       "      <td>Hive 1.39\" Display Smart Watch</td>\n",
       "      <td>Rs. 1699Rs. 6499(Rs. 4800 OFF)</td>\n",
       "    </tr>\n",
       "    <tr>\n",
       "      <th>9</th>\n",
       "      <td>pebble</td>\n",
       "      <td>Women 1.27\" Smart Watch</td>\n",
       "      <td>Rs. 2299Rs. 6999(Rs. 4700 OFF)</td>\n",
       "    </tr>\n",
       "    <tr>\n",
       "      <th>10</th>\n",
       "      <td>NOISE</td>\n",
       "      <td>Mettle EliteEdition Smartwatch</td>\n",
       "      <td>Rs. 2249Rs. 7999(Rs. 5750 OFF)</td>\n",
       "    </tr>\n",
       "    <tr>\n",
       "      <th>11</th>\n",
       "      <td>Fire-Boltt</td>\n",
       "      <td>Hulk 1.78 inch Smartwatch</td>\n",
       "      <td>Rs. 1799Rs. 17999(Rs. 16200 OFF)</td>\n",
       "    </tr>\n",
       "    <tr>\n",
       "      <th>12</th>\n",
       "      <td>pebble</td>\n",
       "      <td>Celia 1.32\" Display SmartWatch</td>\n",
       "      <td>Rs. 2299Rs. 7499(Rs. 5200 OFF)</td>\n",
       "    </tr>\n",
       "    <tr>\n",
       "      <th>13</th>\n",
       "      <td>Fire-Boltt</td>\n",
       "      <td>Eclipse Luxe 1.43\" Amoled</td>\n",
       "      <td>Rs. 1799Rs. 19999(Rs. 18200 OFF)</td>\n",
       "    </tr>\n",
       "    <tr>\n",
       "      <th>14</th>\n",
       "      <td>pebble</td>\n",
       "      <td>Cosmos Ultra 1.91\" BT Calling Smartwatch</td>\n",
       "      <td>Rs. 1599Rs. 7499(Rs. 5900 OFF)</td>\n",
       "    </tr>\n",
       "    <tr>\n",
       "      <th>15</th>\n",
       "      <td>Fire-Boltt</td>\n",
       "      <td>Starlight Bluetooth Smartwatch</td>\n",
       "      <td>Rs. 1599Rs. 14999(Rs. 13400 OFF)</td>\n",
       "    </tr>\n",
       "    <tr>\n",
       "      <th>16</th>\n",
       "      <td>pebble</td>\n",
       "      <td>Celia 1.32\" Display SmartWatch</td>\n",
       "      <td>Rs. 7499</td>\n",
       "    </tr>\n",
       "    <tr>\n",
       "      <th>17</th>\n",
       "      <td>boAt</td>\n",
       "      <td>Ultima Connect Max HD Display</td>\n",
       "      <td>Rs. 1899Rs. 8999(Rs. 7100 OFF)</td>\n",
       "    </tr>\n",
       "    <tr>\n",
       "      <th>18</th>\n",
       "      <td>NOISE</td>\n",
       "      <td>ColorFit Vision 3 Smartwatch</td>\n",
       "      <td>Rs. 3499Rs. 7999(Rs. 4500 OFF)</td>\n",
       "    </tr>\n",
       "    <tr>\n",
       "      <th>19</th>\n",
       "      <td>NOISE</td>\n",
       "      <td>Fit Posh Smartwatch</td>\n",
       "      <td>Rs. 1799Rs. 6999(Rs. 5200 OFF)</td>\n",
       "    </tr>\n",
       "    <tr>\n",
       "      <th>20</th>\n",
       "      <td>Fire-Boltt</td>\n",
       "      <td>Hurricane Smartwatch</td>\n",
       "      <td>Rs. 1700Rs. 8999(Rs. 7299 OFF)</td>\n",
       "    </tr>\n",
       "    <tr>\n",
       "      <th>21</th>\n",
       "      <td>boAt</td>\n",
       "      <td>Ultima BT Calling Smartwatch</td>\n",
       "      <td>Rs. 1899Rs. 8999(Rs. 7100 OFF)</td>\n",
       "    </tr>\n",
       "    <tr>\n",
       "      <th>22</th>\n",
       "      <td>Fire-Boltt</td>\n",
       "      <td>Aura BT Calling Smartwatch</td>\n",
       "      <td>Rs. 1999Rs. 11999(Rs. 10000 OFF)</td>\n",
       "    </tr>\n",
       "    <tr>\n",
       "      <th>23</th>\n",
       "      <td>NOISE</td>\n",
       "      <td>ColorFit Icon 2 Smartwatch</td>\n",
       "      <td>Rs. 1799Rs. 6999(Rs. 5200 OFF)</td>\n",
       "    </tr>\n",
       "    <tr>\n",
       "      <th>24</th>\n",
       "      <td>Fire-Boltt</td>\n",
       "      <td>Hulk 1.78 inch Smartwatch</td>\n",
       "      <td>Rs. 1799Rs. 17999(Rs. 16200 OFF)</td>\n",
       "    </tr>\n",
       "    <tr>\n",
       "      <th>25</th>\n",
       "      <td>CMF by Nothing</td>\n",
       "      <td>Watch Pro</td>\n",
       "      <td>Rs. 3499Rs. 5999(Rs. 2500 OFF)</td>\n",
       "    </tr>\n",
       "    <tr>\n",
       "      <th>26</th>\n",
       "      <td>pebble</td>\n",
       "      <td>Cosmos Ultra 1.91\" BT Calling Smartwatch</td>\n",
       "      <td>Rs. 1599Rs. 7499(Rs. 5900 OFF)</td>\n",
       "    </tr>\n",
       "    <tr>\n",
       "      <th>27</th>\n",
       "      <td>NOISE</td>\n",
       "      <td>Fit Posh Smartwatch</td>\n",
       "      <td>Rs. 1799Rs. 6999(Rs. 5200 OFF)</td>\n",
       "    </tr>\n",
       "    <tr>\n",
       "      <th>28</th>\n",
       "      <td>CMF by Nothing</td>\n",
       "      <td>Watch Pro</td>\n",
       "      <td>Rs. 3499Rs. 5999(Rs. 2500 OFF)</td>\n",
       "    </tr>\n",
       "    <tr>\n",
       "      <th>29</th>\n",
       "      <td>pebble</td>\n",
       "      <td>Cosmos Quest Smartwatch</td>\n",
       "      <td>Rs. 2499Rs. 9999(Rs. 7500 OFF)</td>\n",
       "    </tr>\n",
       "    <tr>\n",
       "      <th>30</th>\n",
       "      <td>NOISE</td>\n",
       "      <td>ColorFit Caliber Smartwatch</td>\n",
       "      <td>Rs. 999Rs. 3999(Rs. 3000 OFF)</td>\n",
       "    </tr>\n",
       "    <tr>\n",
       "      <th>31</th>\n",
       "      <td>Fire-Boltt</td>\n",
       "      <td>Hurricane Smartwatch</td>\n",
       "      <td>Rs. 1899Rs. 8999(Rs. 7100 OFF)</td>\n",
       "    </tr>\n",
       "    <tr>\n",
       "      <th>32</th>\n",
       "      <td>NOISE</td>\n",
       "      <td>ColorFit Icon 2 Smartwatch</td>\n",
       "      <td>Rs. 1799Rs. 6999(Rs. 5200 OFF)</td>\n",
       "    </tr>\n",
       "    <tr>\n",
       "      <th>33</th>\n",
       "      <td>Fire-Boltt</td>\n",
       "      <td>Hurricane Smartwatch</td>\n",
       "      <td>Rs. 1850Rs. 8999(Rs. 7149 OFF)</td>\n",
       "    </tr>\n",
       "    <tr>\n",
       "      <th>34</th>\n",
       "      <td>Fire-Boltt</td>\n",
       "      <td>Crusader Amoled 1.43BT Calling</td>\n",
       "      <td>Rs. 1899Rs. 18999(Rs. 17100 OFF)</td>\n",
       "    </tr>\n",
       "    <tr>\n",
       "      <th>35</th>\n",
       "      <td>Realme</td>\n",
       "      <td>TechLife Watch S100</td>\n",
       "      <td>Rs. 2499Rs. 3999(Rs. 1500 OFF)</td>\n",
       "    </tr>\n",
       "    <tr>\n",
       "      <th>36</th>\n",
       "      <td>NOISE</td>\n",
       "      <td>ColorFit Pro 5 Smartwatch</td>\n",
       "      <td>Rs. 3999Rs. 8999(Rs. 5000 OFF)</td>\n",
       "    </tr>\n",
       "    <tr>\n",
       "      <th>37</th>\n",
       "      <td>pebble</td>\n",
       "      <td>Cosmos Ultra 1.91\" BT Calling Smartwatch</td>\n",
       "      <td>Rs. 1599Rs. 7499(Rs. 5900 OFF)</td>\n",
       "    </tr>\n",
       "    <tr>\n",
       "      <th>38</th>\n",
       "      <td>NOISE</td>\n",
       "      <td>Evolve 3 Smartwatch</td>\n",
       "      <td>Rs. 2449Rs. 6999(Rs. 4550 OFF)</td>\n",
       "    </tr>\n",
       "    <tr>\n",
       "      <th>39</th>\n",
       "      <td>Fire-Boltt</td>\n",
       "      <td>Avalanche Luxury Smart Watch</td>\n",
       "      <td>Rs. 2199Rs. 21000(Rs. 18801 OFF)</td>\n",
       "    </tr>\n",
       "    <tr>\n",
       "      <th>40</th>\n",
       "      <td>Fire-Boltt</td>\n",
       "      <td>Eclipse Luxe 1.43\" Amoled</td>\n",
       "      <td>Rs. 1999Rs. 19999(Rs. 18000 OFF)</td>\n",
       "    </tr>\n",
       "    <tr>\n",
       "      <th>41</th>\n",
       "      <td>Timex</td>\n",
       "      <td>FitGen Smart Watches</td>\n",
       "      <td>Rs. 3497Rs. 6995(50% OFF)</td>\n",
       "    </tr>\n",
       "    <tr>\n",
       "      <th>42</th>\n",
       "      <td>NOISE</td>\n",
       "      <td>ColorFit Pro 5 Max Smartwatch</td>\n",
       "      <td>Rs. 4999Rs. 9999(Rs. 5000 OFF)</td>\n",
       "    </tr>\n",
       "    <tr>\n",
       "      <th>43</th>\n",
       "      <td>Fire-Boltt</td>\n",
       "      <td>Grenade BT Calling Smartwatch</td>\n",
       "      <td>Rs. 1699Rs. 15999(Rs. 14300 OFF)</td>\n",
       "    </tr>\n",
       "    <tr>\n",
       "      <th>44</th>\n",
       "      <td>pebble</td>\n",
       "      <td>BT Calling Luxury Smartwatch</td>\n",
       "      <td>Rs. 1999Rs. 9999(Rs. 8000 OFF)</td>\n",
       "    </tr>\n",
       "    <tr>\n",
       "      <th>45</th>\n",
       "      <td>boAt</td>\n",
       "      <td>Enigma Z40 Smartwatch</td>\n",
       "      <td>Rs. 4799Rs. 10499(Rs. 5700 OFF)</td>\n",
       "    </tr>\n",
       "    <tr>\n",
       "      <th>46</th>\n",
       "      <td>Fire-Boltt</td>\n",
       "      <td>Visionary TWS Smartwatch</td>\n",
       "      <td>Rs. 2499Rs. 18499(Rs. 16000 OFF)</td>\n",
       "    </tr>\n",
       "    <tr>\n",
       "      <th>47</th>\n",
       "      <td>Fastrack</td>\n",
       "      <td>Vigor HD Display Smartwatch</td>\n",
       "      <td>Rs. 2495Rs. 4995(Rs. 2500 OFF)</td>\n",
       "    </tr>\n",
       "    <tr>\n",
       "      <th>48</th>\n",
       "      <td>Fastrack</td>\n",
       "      <td>1.91\" HD Display Smartwatch</td>\n",
       "      <td>Rs. 2995Rs. 5995(Rs. 3000 OFF)</td>\n",
       "    </tr>\n",
       "    <tr>\n",
       "      <th>49</th>\n",
       "      <td>Realme</td>\n",
       "      <td>TechLife Watch S100</td>\n",
       "      <td>Rs. 2499Rs. 3999(Rs. 1500 OFF)</td>\n",
       "    </tr>\n",
       "  </tbody>\n",
       "</table>\n",
       "</div>"
      ],
      "text/plain": [
       "             Brand                                      Desc  \\\n",
       "0       Fire-Boltt                  Cobra AMOLED Smart Watch   \n",
       "1           pebble                   Women 1.27\" Smart Watch   \n",
       "2       Fire-Boltt            Rock AMOLED Display Smartwatch   \n",
       "3             boAt            Unisex Wave Genesis Smartwatch   \n",
       "4            NOISE                       Fit Posh Smartwatch   \n",
       "5       Fire-Boltt            Supernova Bluetooth SmartWatch   \n",
       "6   CMF by Nothing                                 Watch Pro   \n",
       "7        Cultsport                Ace XR 1.43\" Smart Watches   \n",
       "8           pebble            Hive 1.39\" Display Smart Watch   \n",
       "9           pebble                   Women 1.27\" Smart Watch   \n",
       "10           NOISE            Mettle EliteEdition Smartwatch   \n",
       "11      Fire-Boltt                 Hulk 1.78 inch Smartwatch   \n",
       "12          pebble            Celia 1.32\" Display SmartWatch   \n",
       "13      Fire-Boltt                 Eclipse Luxe 1.43\" Amoled   \n",
       "14          pebble  Cosmos Ultra 1.91\" BT Calling Smartwatch   \n",
       "15      Fire-Boltt            Starlight Bluetooth Smartwatch   \n",
       "16          pebble            Celia 1.32\" Display SmartWatch   \n",
       "17            boAt             Ultima Connect Max HD Display   \n",
       "18           NOISE              ColorFit Vision 3 Smartwatch   \n",
       "19           NOISE                       Fit Posh Smartwatch   \n",
       "20      Fire-Boltt                      Hurricane Smartwatch   \n",
       "21            boAt              Ultima BT Calling Smartwatch   \n",
       "22      Fire-Boltt                Aura BT Calling Smartwatch   \n",
       "23           NOISE                ColorFit Icon 2 Smartwatch   \n",
       "24      Fire-Boltt                 Hulk 1.78 inch Smartwatch   \n",
       "25  CMF by Nothing                                 Watch Pro   \n",
       "26          pebble  Cosmos Ultra 1.91\" BT Calling Smartwatch   \n",
       "27           NOISE                       Fit Posh Smartwatch   \n",
       "28  CMF by Nothing                                 Watch Pro   \n",
       "29          pebble                   Cosmos Quest Smartwatch   \n",
       "30           NOISE               ColorFit Caliber Smartwatch   \n",
       "31      Fire-Boltt                      Hurricane Smartwatch   \n",
       "32           NOISE                ColorFit Icon 2 Smartwatch   \n",
       "33      Fire-Boltt                      Hurricane Smartwatch   \n",
       "34      Fire-Boltt            Crusader Amoled 1.43BT Calling   \n",
       "35          Realme                       TechLife Watch S100   \n",
       "36           NOISE                 ColorFit Pro 5 Smartwatch   \n",
       "37          pebble  Cosmos Ultra 1.91\" BT Calling Smartwatch   \n",
       "38           NOISE                       Evolve 3 Smartwatch   \n",
       "39      Fire-Boltt              Avalanche Luxury Smart Watch   \n",
       "40      Fire-Boltt                 Eclipse Luxe 1.43\" Amoled   \n",
       "41           Timex                      FitGen Smart Watches   \n",
       "42           NOISE             ColorFit Pro 5 Max Smartwatch   \n",
       "43      Fire-Boltt             Grenade BT Calling Smartwatch   \n",
       "44          pebble              BT Calling Luxury Smartwatch   \n",
       "45            boAt                     Enigma Z40 Smartwatch   \n",
       "46      Fire-Boltt                  Visionary TWS Smartwatch   \n",
       "47        Fastrack               Vigor HD Display Smartwatch   \n",
       "48        Fastrack               1.91\" HD Display Smartwatch   \n",
       "49          Realme                       TechLife Watch S100   \n",
       "\n",
       "                               Price  \n",
       "0   Rs. 1899Rs. 19999(Rs. 18100 OFF)  \n",
       "1     Rs. 2299Rs. 6999(Rs. 4700 OFF)  \n",
       "2   Rs. 3199Rs. 18999(Rs. 15800 OFF)  \n",
       "3     Rs. 1899Rs. 6499(Rs. 4600 OFF)  \n",
       "4     Rs. 1799Rs. 6999(Rs. 5200 OFF)  \n",
       "5   Rs. 1899Rs. 18999(Rs. 17100 OFF)  \n",
       "6     Rs. 3499Rs. 5999(Rs. 2500 OFF)  \n",
       "7          Rs. 2799Rs. 9999(72% OFF)  \n",
       "8     Rs. 1699Rs. 6499(Rs. 4800 OFF)  \n",
       "9     Rs. 2299Rs. 6999(Rs. 4700 OFF)  \n",
       "10    Rs. 2249Rs. 7999(Rs. 5750 OFF)  \n",
       "11  Rs. 1799Rs. 17999(Rs. 16200 OFF)  \n",
       "12    Rs. 2299Rs. 7499(Rs. 5200 OFF)  \n",
       "13  Rs. 1799Rs. 19999(Rs. 18200 OFF)  \n",
       "14    Rs. 1599Rs. 7499(Rs. 5900 OFF)  \n",
       "15  Rs. 1599Rs. 14999(Rs. 13400 OFF)  \n",
       "16                          Rs. 7499  \n",
       "17    Rs. 1899Rs. 8999(Rs. 7100 OFF)  \n",
       "18    Rs. 3499Rs. 7999(Rs. 4500 OFF)  \n",
       "19    Rs. 1799Rs. 6999(Rs. 5200 OFF)  \n",
       "20    Rs. 1700Rs. 8999(Rs. 7299 OFF)  \n",
       "21    Rs. 1899Rs. 8999(Rs. 7100 OFF)  \n",
       "22  Rs. 1999Rs. 11999(Rs. 10000 OFF)  \n",
       "23    Rs. 1799Rs. 6999(Rs. 5200 OFF)  \n",
       "24  Rs. 1799Rs. 17999(Rs. 16200 OFF)  \n",
       "25    Rs. 3499Rs. 5999(Rs. 2500 OFF)  \n",
       "26    Rs. 1599Rs. 7499(Rs. 5900 OFF)  \n",
       "27    Rs. 1799Rs. 6999(Rs. 5200 OFF)  \n",
       "28    Rs. 3499Rs. 5999(Rs. 2500 OFF)  \n",
       "29    Rs. 2499Rs. 9999(Rs. 7500 OFF)  \n",
       "30     Rs. 999Rs. 3999(Rs. 3000 OFF)  \n",
       "31    Rs. 1899Rs. 8999(Rs. 7100 OFF)  \n",
       "32    Rs. 1799Rs. 6999(Rs. 5200 OFF)  \n",
       "33    Rs. 1850Rs. 8999(Rs. 7149 OFF)  \n",
       "34  Rs. 1899Rs. 18999(Rs. 17100 OFF)  \n",
       "35    Rs. 2499Rs. 3999(Rs. 1500 OFF)  \n",
       "36    Rs. 3999Rs. 8999(Rs. 5000 OFF)  \n",
       "37    Rs. 1599Rs. 7499(Rs. 5900 OFF)  \n",
       "38    Rs. 2449Rs. 6999(Rs. 4550 OFF)  \n",
       "39  Rs. 2199Rs. 21000(Rs. 18801 OFF)  \n",
       "40  Rs. 1999Rs. 19999(Rs. 18000 OFF)  \n",
       "41         Rs. 3497Rs. 6995(50% OFF)  \n",
       "42    Rs. 4999Rs. 9999(Rs. 5000 OFF)  \n",
       "43  Rs. 1699Rs. 15999(Rs. 14300 OFF)  \n",
       "44    Rs. 1999Rs. 9999(Rs. 8000 OFF)  \n",
       "45   Rs. 4799Rs. 10499(Rs. 5700 OFF)  \n",
       "46  Rs. 2499Rs. 18499(Rs. 16000 OFF)  \n",
       "47    Rs. 2495Rs. 4995(Rs. 2500 OFF)  \n",
       "48    Rs. 2995Rs. 5995(Rs. 3000 OFF)  \n",
       "49    Rs. 2499Rs. 3999(Rs. 1500 OFF)  "
      ]
     },
     "execution_count": 99,
     "metadata": {},
     "output_type": "execute_result"
    }
   ],
   "source": [
    "df"
   ]
  },
  {
   "cell_type": "code",
   "execution_count": 100,
   "id": "fe6be49d",
   "metadata": {},
   "outputs": [],
   "source": [
    "df.to_csv(\"dfh1.csv\")"
   ]
  },
  {
   "cell_type": "code",
   "execution_count": null,
   "id": "fa39c755",
   "metadata": {},
   "outputs": [],
   "source": []
  }
 ],
 "metadata": {
  "kernelspec": {
   "display_name": "Python 3 (ipykernel)",
   "language": "python",
   "name": "python3"
  },
  "language_info": {
   "codemirror_mode": {
    "name": "ipython",
    "version": 3
   },
   "file_extension": ".py",
   "mimetype": "text/x-python",
   "name": "python",
   "nbconvert_exporter": "python",
   "pygments_lexer": "ipython3",
   "version": "3.11.5"
  }
 },
 "nbformat": 4,
 "nbformat_minor": 5
}
